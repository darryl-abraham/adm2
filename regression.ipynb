{
 "cells": [
  {
   "cell_type": "markdown",
   "source": [
    "#### Algorithmics for Data Mining Project 2\n",
    "# Regression\n",
    "#### Ondrej Herman, Darryl Abraham"
   ],
   "metadata": {
    "collapsed": false
   },
   "id": "878b50bbbc1510ae"
  },
  {
   "cell_type": "markdown",
   "source": [
    "#### Importing Libraries"
   ],
   "metadata": {
    "collapsed": false
   },
   "id": "bef3e4e5f43d5bb6"
  },
  {
   "cell_type": "code",
   "execution_count": 1,
   "id": "initial_id",
   "metadata": {
    "collapsed": true,
    "ExecuteTime": {
     "end_time": "2024-05-29T21:01:47.953251Z",
     "start_time": "2024-05-29T21:01:46.403055Z"
    }
   },
   "outputs": [],
   "source": [
    "import pandas as pd\n",
    "from sklearn.linear_model import LinearRegression\n",
    "from sklearn.model_selection import train_test_split\n",
    "from sklearn.metrics import mean_squared_error\n",
    "from sklearn.metrics import r2_score\n",
    "from sklearn.model_selection import KFold\n",
    "import numpy as np\n",
    "from sklearn.linear_model import Ridge\n",
    "from sklearn.linear_model import Lasso"
   ]
  },
  {
   "cell_type": "markdown",
   "source": [
    "#### Reading Data"
   ],
   "metadata": {
    "collapsed": false
   },
   "id": "1db96f5cb22b0a4f"
  },
  {
   "cell_type": "code",
   "outputs": [],
   "source": [
    "df = pd.read_csv('data/preprocessed_data.csv')"
   ],
   "metadata": {
    "collapsed": false,
    "ExecuteTime": {
     "end_time": "2024-05-29T21:01:48.256742Z",
     "start_time": "2024-05-29T21:01:47.954336Z"
    }
   },
   "id": "b30ba6efbdb9728",
   "execution_count": 2
  },
  {
   "cell_type": "code",
   "outputs": [
    {
     "data": {
      "text/plain": "   popularity  duration_ms  danceability    energy  loudness  speechiness  \\\n0    0.975633    -0.730859     -0.845908 -1.889980 -1.784744    -0.078993   \n1    1.065299    -0.160332     -0.742186 -1.122669 -0.293288    -0.273826   \n2    1.692961    -0.243214     -1.733304 -2.312994 -2.039252    -0.457309   \n3    2.186125    -0.271919      0.295030 -0.788711 -0.282750    -0.303145   \n4    1.827460     0.012776     -0.920818 -1.965518 -0.111952    -0.464875   \n\n   acousticness  instrumentalness  liveness   valence     tempo  mode  \\\n0      1.831732         -0.504094 -0.591211 -0.798690 -1.489717     1   \n1     -0.315499         -0.504112 -0.507167 -1.365688 -1.528312     1   \n2      1.774593         -0.503883 -0.428376 -1.276974  1.987859     1   \n3      0.463399         -0.504112 -0.686285 -1.184403 -0.073348     1   \n4      1.630242         -0.504103 -0.642162 -1.533474  0.638339     1   \n\n                                          album_name  \\\n0                                   Ghost (Acoustic)   \n1                                     To Begin Again   \n2  Crazy Rich Asians (Original Motion Picture Sou...   \n3                                            Hold On   \n4                        Is There Anybody Out There?   \n\n                                artists  explicit                track_id  \\\n0                          Ben Woodward     False  4qPNDBW1i3p13qLCt0Ki3A   \n1                Ingrid Michaelson;ZAYN     False  1iJBSr7s7jYXzM8EGcbK5b   \n2                          Kina Grannis     False  6lfxq3CG4xtTiEg7opyCyx   \n3                      Chord Overstreet     False  5vjLSffimiIP26QG5WcN2K   \n4  A Great Big World;Christina Aguilera     False  6Vc5wAMmXdKIAM7WUoEb7N   \n\n   time_signature                  track_name  key track_genre  \n0               4            Ghost - Acoustic    1    acoustic  \n1               4              To Begin Again    0    acoustic  \n2               3  Can't Help Falling In Love    0    acoustic  \n3               4                     Hold On    2    acoustic  \n4               3               Say Something    2    acoustic  ",
      "text/html": "<div>\n<style scoped>\n    .dataframe tbody tr th:only-of-type {\n        vertical-align: middle;\n    }\n\n    .dataframe tbody tr th {\n        vertical-align: top;\n    }\n\n    .dataframe thead th {\n        text-align: right;\n    }\n</style>\n<table border=\"1\" class=\"dataframe\">\n  <thead>\n    <tr style=\"text-align: right;\">\n      <th></th>\n      <th>popularity</th>\n      <th>duration_ms</th>\n      <th>danceability</th>\n      <th>energy</th>\n      <th>loudness</th>\n      <th>speechiness</th>\n      <th>acousticness</th>\n      <th>instrumentalness</th>\n      <th>liveness</th>\n      <th>valence</th>\n      <th>tempo</th>\n      <th>mode</th>\n      <th>album_name</th>\n      <th>artists</th>\n      <th>explicit</th>\n      <th>track_id</th>\n      <th>time_signature</th>\n      <th>track_name</th>\n      <th>key</th>\n      <th>track_genre</th>\n    </tr>\n  </thead>\n  <tbody>\n    <tr>\n      <th>0</th>\n      <td>0.975633</td>\n      <td>-0.730859</td>\n      <td>-0.845908</td>\n      <td>-1.889980</td>\n      <td>-1.784744</td>\n      <td>-0.078993</td>\n      <td>1.831732</td>\n      <td>-0.504094</td>\n      <td>-0.591211</td>\n      <td>-0.798690</td>\n      <td>-1.489717</td>\n      <td>1</td>\n      <td>Ghost (Acoustic)</td>\n      <td>Ben Woodward</td>\n      <td>False</td>\n      <td>4qPNDBW1i3p13qLCt0Ki3A</td>\n      <td>4</td>\n      <td>Ghost - Acoustic</td>\n      <td>1</td>\n      <td>acoustic</td>\n    </tr>\n    <tr>\n      <th>1</th>\n      <td>1.065299</td>\n      <td>-0.160332</td>\n      <td>-0.742186</td>\n      <td>-1.122669</td>\n      <td>-0.293288</td>\n      <td>-0.273826</td>\n      <td>-0.315499</td>\n      <td>-0.504112</td>\n      <td>-0.507167</td>\n      <td>-1.365688</td>\n      <td>-1.528312</td>\n      <td>1</td>\n      <td>To Begin Again</td>\n      <td>Ingrid Michaelson;ZAYN</td>\n      <td>False</td>\n      <td>1iJBSr7s7jYXzM8EGcbK5b</td>\n      <td>4</td>\n      <td>To Begin Again</td>\n      <td>0</td>\n      <td>acoustic</td>\n    </tr>\n    <tr>\n      <th>2</th>\n      <td>1.692961</td>\n      <td>-0.243214</td>\n      <td>-1.733304</td>\n      <td>-2.312994</td>\n      <td>-2.039252</td>\n      <td>-0.457309</td>\n      <td>1.774593</td>\n      <td>-0.503883</td>\n      <td>-0.428376</td>\n      <td>-1.276974</td>\n      <td>1.987859</td>\n      <td>1</td>\n      <td>Crazy Rich Asians (Original Motion Picture Sou...</td>\n      <td>Kina Grannis</td>\n      <td>False</td>\n      <td>6lfxq3CG4xtTiEg7opyCyx</td>\n      <td>3</td>\n      <td>Can't Help Falling In Love</td>\n      <td>0</td>\n      <td>acoustic</td>\n    </tr>\n    <tr>\n      <th>3</th>\n      <td>2.186125</td>\n      <td>-0.271919</td>\n      <td>0.295030</td>\n      <td>-0.788711</td>\n      <td>-0.282750</td>\n      <td>-0.303145</td>\n      <td>0.463399</td>\n      <td>-0.504112</td>\n      <td>-0.686285</td>\n      <td>-1.184403</td>\n      <td>-0.073348</td>\n      <td>1</td>\n      <td>Hold On</td>\n      <td>Chord Overstreet</td>\n      <td>False</td>\n      <td>5vjLSffimiIP26QG5WcN2K</td>\n      <td>4</td>\n      <td>Hold On</td>\n      <td>2</td>\n      <td>acoustic</td>\n    </tr>\n    <tr>\n      <th>4</th>\n      <td>1.827460</td>\n      <td>0.012776</td>\n      <td>-0.920818</td>\n      <td>-1.965518</td>\n      <td>-0.111952</td>\n      <td>-0.464875</td>\n      <td>1.630242</td>\n      <td>-0.504103</td>\n      <td>-0.642162</td>\n      <td>-1.533474</td>\n      <td>0.638339</td>\n      <td>1</td>\n      <td>Is There Anybody Out There?</td>\n      <td>A Great Big World;Christina Aguilera</td>\n      <td>False</td>\n      <td>6Vc5wAMmXdKIAM7WUoEb7N</td>\n      <td>3</td>\n      <td>Say Something</td>\n      <td>2</td>\n      <td>acoustic</td>\n    </tr>\n  </tbody>\n</table>\n</div>"
     },
     "execution_count": 3,
     "metadata": {},
     "output_type": "execute_result"
    }
   ],
   "source": [
    "df.head()"
   ],
   "metadata": {
    "collapsed": false,
    "ExecuteTime": {
     "end_time": "2024-05-29T21:01:48.278Z",
     "start_time": "2024-05-29T21:01:48.257821Z"
    }
   },
   "id": "50b65bbcafaf4544",
   "execution_count": 3
  },
  {
   "cell_type": "code",
   "outputs": [
    {
     "data": {
      "text/plain": "         popularity   duration_ms  danceability        energy      loudness  \\\ncount  99510.000000  99510.000000  99510.000000  99510.000000  99510.000000   \nmean       0.005015     -0.062121      0.011782      0.013758      0.061775   \nstd        0.996233      0.684194      0.987992      0.996195      0.865703   \nmin       -1.490184     -1.977955     -3.266080     -2.549866     -3.335651   \n25%       -0.728023     -0.501955     -0.615415     -0.645585     -0.297663   \n50%        0.078972     -0.149148      0.087587      0.193288      0.275576   \n75%        0.751467      0.274843      0.732966      0.849278      0.660321   \nmax        2.993119      2.753555      2.404037      1.425755      2.004241   \n\n        speechiness  acousticness  instrumentalness      liveness  \\\ncount  99510.000000  99510.000000      99510.000000  99510.000000   \nmean      -0.222461     -0.009693         -0.479500     -0.140225   \nstd        0.354958      0.998565          0.061442      0.718848   \nmin       -0.800630     -0.947037         -0.504112     -1.073149   \n25%       -0.464875     -0.897717         -0.504112     -0.610121   \n50%       -0.352326     -0.456843         -0.504054     -0.444134   \n75%       -0.108313      0.830293         -0.495454      0.180942   \nmax        1.374683      2.048260          0.103215      3.069948   \n\n            valence  ...       spanish         study       swedish  \\\ncount  99510.000000  ...  99510.000000  99510.000000  99510.000000   \nmean       0.008574  ...      0.009054      0.009135      0.008914   \nstd        0.995597  ...      0.094723      0.095139      0.093991   \nmin       -1.828544  ...      0.000000      0.000000      0.000000   \n25%       -0.814118  ...      0.000000      0.000000      0.000000   \n50%       -0.031120  ...      0.000000      0.000000      0.000000   \n75%        0.809735  ...      0.000000      0.000000      0.000000   \nmax        2.009303  ...      1.000000      1.000000      1.000000   \n\n          synth-pop         tango        techno        trance      trip-hop  \\\ncount  99510.000000  99510.000000  99510.000000  99510.000000  99510.000000   \nmean       0.008602      0.008411      0.008401      0.008974      0.008904   \nstd        0.092348      0.091327      0.091273      0.094306      0.093939   \nmin        0.000000      0.000000      0.000000      0.000000      0.000000   \n25%        0.000000      0.000000      0.000000      0.000000      0.000000   \n50%        0.000000      0.000000      0.000000      0.000000      0.000000   \n75%        0.000000      0.000000      0.000000      0.000000      0.000000   \nmax        1.000000      1.000000      1.000000      1.000000      1.000000   \n\n            turkish   world-music  \ncount  99510.000000  99510.000000  \nmean       0.008622      0.008431  \nstd        0.092455      0.091435  \nmin        0.000000      0.000000  \n25%        0.000000      0.000000  \n50%        0.000000      0.000000  \n75%        0.000000      0.000000  \nmax        1.000000      1.000000  \n\n[8 rows x 129 columns]",
      "text/html": "<div>\n<style scoped>\n    .dataframe tbody tr th:only-of-type {\n        vertical-align: middle;\n    }\n\n    .dataframe tbody tr th {\n        vertical-align: top;\n    }\n\n    .dataframe thead th {\n        text-align: right;\n    }\n</style>\n<table border=\"1\" class=\"dataframe\">\n  <thead>\n    <tr style=\"text-align: right;\">\n      <th></th>\n      <th>popularity</th>\n      <th>duration_ms</th>\n      <th>danceability</th>\n      <th>energy</th>\n      <th>loudness</th>\n      <th>speechiness</th>\n      <th>acousticness</th>\n      <th>instrumentalness</th>\n      <th>liveness</th>\n      <th>valence</th>\n      <th>...</th>\n      <th>spanish</th>\n      <th>study</th>\n      <th>swedish</th>\n      <th>synth-pop</th>\n      <th>tango</th>\n      <th>techno</th>\n      <th>trance</th>\n      <th>trip-hop</th>\n      <th>turkish</th>\n      <th>world-music</th>\n    </tr>\n  </thead>\n  <tbody>\n    <tr>\n      <th>count</th>\n      <td>99510.000000</td>\n      <td>99510.000000</td>\n      <td>99510.000000</td>\n      <td>99510.000000</td>\n      <td>99510.000000</td>\n      <td>99510.000000</td>\n      <td>99510.000000</td>\n      <td>99510.000000</td>\n      <td>99510.000000</td>\n      <td>99510.000000</td>\n      <td>...</td>\n      <td>99510.000000</td>\n      <td>99510.000000</td>\n      <td>99510.000000</td>\n      <td>99510.000000</td>\n      <td>99510.000000</td>\n      <td>99510.000000</td>\n      <td>99510.000000</td>\n      <td>99510.000000</td>\n      <td>99510.000000</td>\n      <td>99510.000000</td>\n    </tr>\n    <tr>\n      <th>mean</th>\n      <td>0.005015</td>\n      <td>-0.062121</td>\n      <td>0.011782</td>\n      <td>0.013758</td>\n      <td>0.061775</td>\n      <td>-0.222461</td>\n      <td>-0.009693</td>\n      <td>-0.479500</td>\n      <td>-0.140225</td>\n      <td>0.008574</td>\n      <td>...</td>\n      <td>0.009054</td>\n      <td>0.009135</td>\n      <td>0.008914</td>\n      <td>0.008602</td>\n      <td>0.008411</td>\n      <td>0.008401</td>\n      <td>0.008974</td>\n      <td>0.008904</td>\n      <td>0.008622</td>\n      <td>0.008431</td>\n    </tr>\n    <tr>\n      <th>std</th>\n      <td>0.996233</td>\n      <td>0.684194</td>\n      <td>0.987992</td>\n      <td>0.996195</td>\n      <td>0.865703</td>\n      <td>0.354958</td>\n      <td>0.998565</td>\n      <td>0.061442</td>\n      <td>0.718848</td>\n      <td>0.995597</td>\n      <td>...</td>\n      <td>0.094723</td>\n      <td>0.095139</td>\n      <td>0.093991</td>\n      <td>0.092348</td>\n      <td>0.091327</td>\n      <td>0.091273</td>\n      <td>0.094306</td>\n      <td>0.093939</td>\n      <td>0.092455</td>\n      <td>0.091435</td>\n    </tr>\n    <tr>\n      <th>min</th>\n      <td>-1.490184</td>\n      <td>-1.977955</td>\n      <td>-3.266080</td>\n      <td>-2.549866</td>\n      <td>-3.335651</td>\n      <td>-0.800630</td>\n      <td>-0.947037</td>\n      <td>-0.504112</td>\n      <td>-1.073149</td>\n      <td>-1.828544</td>\n      <td>...</td>\n      <td>0.000000</td>\n      <td>0.000000</td>\n      <td>0.000000</td>\n      <td>0.000000</td>\n      <td>0.000000</td>\n      <td>0.000000</td>\n      <td>0.000000</td>\n      <td>0.000000</td>\n      <td>0.000000</td>\n      <td>0.000000</td>\n    </tr>\n    <tr>\n      <th>25%</th>\n      <td>-0.728023</td>\n      <td>-0.501955</td>\n      <td>-0.615415</td>\n      <td>-0.645585</td>\n      <td>-0.297663</td>\n      <td>-0.464875</td>\n      <td>-0.897717</td>\n      <td>-0.504112</td>\n      <td>-0.610121</td>\n      <td>-0.814118</td>\n      <td>...</td>\n      <td>0.000000</td>\n      <td>0.000000</td>\n      <td>0.000000</td>\n      <td>0.000000</td>\n      <td>0.000000</td>\n      <td>0.000000</td>\n      <td>0.000000</td>\n      <td>0.000000</td>\n      <td>0.000000</td>\n      <td>0.000000</td>\n    </tr>\n    <tr>\n      <th>50%</th>\n      <td>0.078972</td>\n      <td>-0.149148</td>\n      <td>0.087587</td>\n      <td>0.193288</td>\n      <td>0.275576</td>\n      <td>-0.352326</td>\n      <td>-0.456843</td>\n      <td>-0.504054</td>\n      <td>-0.444134</td>\n      <td>-0.031120</td>\n      <td>...</td>\n      <td>0.000000</td>\n      <td>0.000000</td>\n      <td>0.000000</td>\n      <td>0.000000</td>\n      <td>0.000000</td>\n      <td>0.000000</td>\n      <td>0.000000</td>\n      <td>0.000000</td>\n      <td>0.000000</td>\n      <td>0.000000</td>\n    </tr>\n    <tr>\n      <th>75%</th>\n      <td>0.751467</td>\n      <td>0.274843</td>\n      <td>0.732966</td>\n      <td>0.849278</td>\n      <td>0.660321</td>\n      <td>-0.108313</td>\n      <td>0.830293</td>\n      <td>-0.495454</td>\n      <td>0.180942</td>\n      <td>0.809735</td>\n      <td>...</td>\n      <td>0.000000</td>\n      <td>0.000000</td>\n      <td>0.000000</td>\n      <td>0.000000</td>\n      <td>0.000000</td>\n      <td>0.000000</td>\n      <td>0.000000</td>\n      <td>0.000000</td>\n      <td>0.000000</td>\n      <td>0.000000</td>\n    </tr>\n    <tr>\n      <th>max</th>\n      <td>2.993119</td>\n      <td>2.753555</td>\n      <td>2.404037</td>\n      <td>1.425755</td>\n      <td>2.004241</td>\n      <td>1.374683</td>\n      <td>2.048260</td>\n      <td>0.103215</td>\n      <td>3.069948</td>\n      <td>2.009303</td>\n      <td>...</td>\n      <td>1.000000</td>\n      <td>1.000000</td>\n      <td>1.000000</td>\n      <td>1.000000</td>\n      <td>1.000000</td>\n      <td>1.000000</td>\n      <td>1.000000</td>\n      <td>1.000000</td>\n      <td>1.000000</td>\n      <td>1.000000</td>\n    </tr>\n  </tbody>\n</table>\n<p>8 rows × 129 columns</p>\n</div>"
     },
     "execution_count": 60,
     "metadata": {},
     "output_type": "execute_result"
    }
   ],
   "source": [
    "df.describe()"
   ],
   "metadata": {
    "collapsed": false,
    "ExecuteTime": {
     "end_time": "2024-05-29T23:39:09.844630Z",
     "start_time": "2024-05-29T23:39:09.272228Z"
    }
   },
   "id": "57f4949979e2cd81",
   "execution_count": 60
  },
  {
   "cell_type": "markdown",
   "source": [
    "#### Data Preprocessing"
   ],
   "metadata": {
    "collapsed": false
   },
   "id": "82128474bed2ff06"
  },
  {
   "cell_type": "code",
   "outputs": [
    {
     "data": {
      "text/plain": "   popularity  duration_ms  danceability    energy  loudness  speechiness  \\\n0    0.975633    -0.730859     -0.845908 -1.889980 -1.784744    -0.078993   \n1    1.065299    -0.160332     -0.742186 -1.122669 -0.293288    -0.273826   \n2    1.692961    -0.243214     -1.733304 -2.312994 -2.039252    -0.457309   \n3    2.186125    -0.271919      0.295030 -0.788711 -0.282750    -0.303145   \n4    1.827460     0.012776     -0.920818 -1.965518 -0.111952    -0.464875   \n\n   acousticness  instrumentalness  liveness   valence  ...  spanish  study  \\\n0      1.831732         -0.504094 -0.591211 -0.798690  ...        0      0   \n1     -0.315499         -0.504112 -0.507167 -1.365688  ...        0      0   \n2      1.774593         -0.503883 -0.428376 -1.276974  ...        0      0   \n3      0.463399         -0.504112 -0.686285 -1.184403  ...        0      0   \n4      1.630242         -0.504103 -0.642162 -1.533474  ...        0      0   \n\n   swedish  synth-pop  tango  techno  trance  trip-hop  turkish  world-music  \n0        0          0      0       0       0         0        0            0  \n1        0          0      0       0       0         0        0            0  \n2        0          0      0       0       0         0        0            0  \n3        0          0      0       0       0         0        0            0  \n4        0          0      0       0       0         0        0            0  \n\n[5 rows x 129 columns]",
      "text/html": "<div>\n<style scoped>\n    .dataframe tbody tr th:only-of-type {\n        vertical-align: middle;\n    }\n\n    .dataframe tbody tr th {\n        vertical-align: top;\n    }\n\n    .dataframe thead th {\n        text-align: right;\n    }\n</style>\n<table border=\"1\" class=\"dataframe\">\n  <thead>\n    <tr style=\"text-align: right;\">\n      <th></th>\n      <th>popularity</th>\n      <th>duration_ms</th>\n      <th>danceability</th>\n      <th>energy</th>\n      <th>loudness</th>\n      <th>speechiness</th>\n      <th>acousticness</th>\n      <th>instrumentalness</th>\n      <th>liveness</th>\n      <th>valence</th>\n      <th>...</th>\n      <th>spanish</th>\n      <th>study</th>\n      <th>swedish</th>\n      <th>synth-pop</th>\n      <th>tango</th>\n      <th>techno</th>\n      <th>trance</th>\n      <th>trip-hop</th>\n      <th>turkish</th>\n      <th>world-music</th>\n    </tr>\n  </thead>\n  <tbody>\n    <tr>\n      <th>0</th>\n      <td>0.975633</td>\n      <td>-0.730859</td>\n      <td>-0.845908</td>\n      <td>-1.889980</td>\n      <td>-1.784744</td>\n      <td>-0.078993</td>\n      <td>1.831732</td>\n      <td>-0.504094</td>\n      <td>-0.591211</td>\n      <td>-0.798690</td>\n      <td>...</td>\n      <td>0</td>\n      <td>0</td>\n      <td>0</td>\n      <td>0</td>\n      <td>0</td>\n      <td>0</td>\n      <td>0</td>\n      <td>0</td>\n      <td>0</td>\n      <td>0</td>\n    </tr>\n    <tr>\n      <th>1</th>\n      <td>1.065299</td>\n      <td>-0.160332</td>\n      <td>-0.742186</td>\n      <td>-1.122669</td>\n      <td>-0.293288</td>\n      <td>-0.273826</td>\n      <td>-0.315499</td>\n      <td>-0.504112</td>\n      <td>-0.507167</td>\n      <td>-1.365688</td>\n      <td>...</td>\n      <td>0</td>\n      <td>0</td>\n      <td>0</td>\n      <td>0</td>\n      <td>0</td>\n      <td>0</td>\n      <td>0</td>\n      <td>0</td>\n      <td>0</td>\n      <td>0</td>\n    </tr>\n    <tr>\n      <th>2</th>\n      <td>1.692961</td>\n      <td>-0.243214</td>\n      <td>-1.733304</td>\n      <td>-2.312994</td>\n      <td>-2.039252</td>\n      <td>-0.457309</td>\n      <td>1.774593</td>\n      <td>-0.503883</td>\n      <td>-0.428376</td>\n      <td>-1.276974</td>\n      <td>...</td>\n      <td>0</td>\n      <td>0</td>\n      <td>0</td>\n      <td>0</td>\n      <td>0</td>\n      <td>0</td>\n      <td>0</td>\n      <td>0</td>\n      <td>0</td>\n      <td>0</td>\n    </tr>\n    <tr>\n      <th>3</th>\n      <td>2.186125</td>\n      <td>-0.271919</td>\n      <td>0.295030</td>\n      <td>-0.788711</td>\n      <td>-0.282750</td>\n      <td>-0.303145</td>\n      <td>0.463399</td>\n      <td>-0.504112</td>\n      <td>-0.686285</td>\n      <td>-1.184403</td>\n      <td>...</td>\n      <td>0</td>\n      <td>0</td>\n      <td>0</td>\n      <td>0</td>\n      <td>0</td>\n      <td>0</td>\n      <td>0</td>\n      <td>0</td>\n      <td>0</td>\n      <td>0</td>\n    </tr>\n    <tr>\n      <th>4</th>\n      <td>1.827460</td>\n      <td>0.012776</td>\n      <td>-0.920818</td>\n      <td>-1.965518</td>\n      <td>-0.111952</td>\n      <td>-0.464875</td>\n      <td>1.630242</td>\n      <td>-0.504103</td>\n      <td>-0.642162</td>\n      <td>-1.533474</td>\n      <td>...</td>\n      <td>0</td>\n      <td>0</td>\n      <td>0</td>\n      <td>0</td>\n      <td>0</td>\n      <td>0</td>\n      <td>0</td>\n      <td>0</td>\n      <td>0</td>\n      <td>0</td>\n    </tr>\n  </tbody>\n</table>\n<p>5 rows × 129 columns</p>\n</div>"
     },
     "execution_count": 4,
     "metadata": {},
     "output_type": "execute_result"
    }
   ],
   "source": [
    "# RUN ONCE\n",
    "df = df.drop(columns=['track_name', 'album_name', 'artists', 'track_id'])\n",
    "df['explicit'] = df['explicit'].astype(int)\n",
    "dummy = pd.get_dummies(df['track_genre']).astype(int)\n",
    "df = pd.concat([df.drop(columns='track_genre'), dummy], axis=1)\n",
    "df.head()"
   ],
   "metadata": {
    "collapsed": false,
    "ExecuteTime": {
     "end_time": "2024-05-29T21:01:48.330137Z",
     "start_time": "2024-05-29T21:01:48.279216Z"
    }
   },
   "id": "130c1eb3e8783ab5",
   "execution_count": 4
  },
  {
   "cell_type": "markdown",
   "source": [
    "#### Train-Test Split"
   ],
   "metadata": {
    "collapsed": false
   },
   "id": "cd4c4e862cd76bf2"
  },
  {
   "cell_type": "code",
   "outputs": [],
   "source": [
    "X_train, X_test, y_train, y_test = train_test_split(df.drop(columns='popularity'), df['popularity'], test_size=0.7, random_state=42)"
   ],
   "metadata": {
    "collapsed": false,
    "ExecuteTime": {
     "end_time": "2024-05-29T21:01:48.409508Z",
     "start_time": "2024-05-29T21:01:48.331195Z"
    }
   },
   "id": "e4fa3e64c7451e07",
   "execution_count": 5
  },
  {
   "cell_type": "markdown",
   "source": [
    "#### Evaluation framework"
   ],
   "metadata": {
    "collapsed": false
   },
   "id": "4b062f0ff05767c5"
  },
  {
   "cell_type": "code",
   "outputs": [],
   "source": [
    "def cross_validate(model, X, y, num_folds):\n",
    "    # Initialize KFold cross-validation object\n",
    "    kf = KFold(n_splits=num_folds, shuffle=True, random_state=42)\n",
    "    \n",
    "    # Initialize lists to store metrics and coefficients\n",
    "    mse_values = []\n",
    "    r2_values = []\n",
    "    intercepts = []\n",
    "    coefficients = []\n",
    "    \n",
    "    # Perform cross-validation\n",
    "    for train_index, test_index in kf.split(X, y):\n",
    "        # Split the data into training and testing sets for this fold\n",
    "        X_train, X_test = X.iloc[train_index], X.iloc[test_index]\n",
    "        y_train, y_test = y.iloc[train_index], y.iloc[test_index]\n",
    "        \n",
    "        # Fit the model on the training data\n",
    "        model.fit(X_train, y_train)\n",
    "        \n",
    "        # Predict the test data\n",
    "        y_pred = model.predict(X_test)\n",
    "        \n",
    "        # MSE\n",
    "        mse_values.append(mean_squared_error(y_test, y_pred))\n",
    "        # R2\n",
    "        r2_values.append(r2_score(y_test, y_pred))\n",
    "        # Get intercept\n",
    "        intercepts.append(model.intercept_)\n",
    "        # Get the coefficients\n",
    "        coefficients.append(model.coef_)\n",
    "        \n",
    "    # Calculate the mean and variance of the metrics\n",
    "    mean_mse = np.mean(mse_values)\n",
    "    variance_mse = np.var(mse_values)\n",
    "    print(f'Mean MSE: {mean_mse}, Variance MSE: {variance_mse}')\n",
    "    \n",
    "    mean_r2 = np.mean(r2_values)\n",
    "    variance_r2 = np.var(r2_values)\n",
    "    print(f'Mean R2: {mean_r2}, Variance R2: {variance_r2}')\n",
    "    \n",
    "    mean_intercept = np.mean(intercepts)\n",
    "    variance_intercept = np.var(intercepts)\n",
    "    \n",
    "    transposed_data = np.array(coefficients).T\n",
    "    means = np.mean(transposed_data, axis=1)\n",
    "    variances = np.var(transposed_data, axis=1)\n",
    "    coefficients_df = pd.DataFrame({'Mean Coefficient': means, 'Variance Coefficient': variances}, index=X.columns)\n",
    "    \n",
    "    eval_dict = {\n",
    "        'mse': (mean_mse, variance_mse, mse_values),\n",
    "        'r2': (mean_r2, variance_r2, r2_values),\n",
    "        'intercept': (mean_intercept, variance_intercept, intercepts),\n",
    "        'Coefficients': coefficients_df\n",
    "    }\n",
    "    \n",
    "    return eval_dict"
   ],
   "metadata": {
    "collapsed": false,
    "ExecuteTime": {
     "end_time": "2024-05-29T21:31:37.050680Z",
     "start_time": "2024-05-29T21:31:37.045466Z"
    }
   },
   "id": "21248903b8d64637",
   "execution_count": 56
  },
  {
   "cell_type": "markdown",
   "source": [
    "## Linear Regression\n",
    "#### Model Training"
   ],
   "metadata": {
    "collapsed": false
   },
   "id": "d30f88adb986b9c7"
  },
  {
   "cell_type": "code",
   "outputs": [
    {
     "name": "stdout",
     "output_type": "stream",
     "text": [
      "Mean MSE: 0.6972646524094266, Variance MSE: 0.00024888149290919393\n",
      "Mean R2: 0.2974040041522366, Variance R2: 0.00011564842058362452\n"
     ]
    }
   ],
   "source": [
    "model = LinearRegression()\n",
    "num_folds = 10\n",
    "\n",
    "X = df.drop(columns='popularity')\n",
    "y = df['popularity']\n",
    "\n",
    "lm = cross_validate(model, X, y, num_folds)"
   ],
   "metadata": {
    "collapsed": false,
    "ExecuteTime": {
     "end_time": "2024-05-29T21:01:54.116290Z",
     "start_time": "2024-05-29T21:01:48.417992Z"
    }
   },
   "id": "4e5b9d48f6aa4b13",
   "execution_count": 7
  },
  {
   "cell_type": "markdown",
   "source": [
    "#### Model Evaluation"
   ],
   "metadata": {
    "collapsed": false
   },
   "id": "6e107a3d4e7ddd0a"
  },
  {
   "cell_type": "code",
   "outputs": [
    {
     "name": "stdout",
     "output_type": "stream",
     "text": [
      "Mean Intercept: -0.22393744515459338, Variance Intercept: 0.00014805205007365534\n"
     ]
    },
    {
     "data": {
      "text/plain": "              Mean Coefficient  Variance Coefficient\nduration_ms           0.019984              0.000005\ndanceability          0.051489              0.000002\nenergy               -0.051250              0.000002\nloudness              0.046014              0.000004\nspeechiness          -0.083718              0.000005\n...                        ...                   ...\ntechno                0.204282              0.000089\ntrance                0.148437              0.000062\ntrip-hop              0.048567              0.000089\nturkish               0.296828              0.000005\nworld-music           0.449990              0.000028\n\n[128 rows x 2 columns]",
      "text/html": "<div>\n<style scoped>\n    .dataframe tbody tr th:only-of-type {\n        vertical-align: middle;\n    }\n\n    .dataframe tbody tr th {\n        vertical-align: top;\n    }\n\n    .dataframe thead th {\n        text-align: right;\n    }\n</style>\n<table border=\"1\" class=\"dataframe\">\n  <thead>\n    <tr style=\"text-align: right;\">\n      <th></th>\n      <th>Mean Coefficient</th>\n      <th>Variance Coefficient</th>\n    </tr>\n  </thead>\n  <tbody>\n    <tr>\n      <th>duration_ms</th>\n      <td>0.019984</td>\n      <td>0.000005</td>\n    </tr>\n    <tr>\n      <th>danceability</th>\n      <td>0.051489</td>\n      <td>0.000002</td>\n    </tr>\n    <tr>\n      <th>energy</th>\n      <td>-0.051250</td>\n      <td>0.000002</td>\n    </tr>\n    <tr>\n      <th>loudness</th>\n      <td>0.046014</td>\n      <td>0.000004</td>\n    </tr>\n    <tr>\n      <th>speechiness</th>\n      <td>-0.083718</td>\n      <td>0.000005</td>\n    </tr>\n    <tr>\n      <th>...</th>\n      <td>...</td>\n      <td>...</td>\n    </tr>\n    <tr>\n      <th>techno</th>\n      <td>0.204282</td>\n      <td>0.000089</td>\n    </tr>\n    <tr>\n      <th>trance</th>\n      <td>0.148437</td>\n      <td>0.000062</td>\n    </tr>\n    <tr>\n      <th>trip-hop</th>\n      <td>0.048567</td>\n      <td>0.000089</td>\n    </tr>\n    <tr>\n      <th>turkish</th>\n      <td>0.296828</td>\n      <td>0.000005</td>\n    </tr>\n    <tr>\n      <th>world-music</th>\n      <td>0.449990</td>\n      <td>0.000028</td>\n    </tr>\n  </tbody>\n</table>\n<p>128 rows × 2 columns</p>\n</div>"
     },
     "execution_count": 8,
     "metadata": {},
     "output_type": "execute_result"
    }
   ],
   "source": [
    "print(f'Mean Intercept: {lm['intercept'][0]}, Variance Intercept: {lm['intercept'][1]}')\n",
    "lm['Coefficients']"
   ],
   "metadata": {
    "collapsed": false,
    "ExecuteTime": {
     "end_time": "2024-05-29T21:01:54.123042Z",
     "start_time": "2024-05-29T21:01:54.117305Z"
    }
   },
   "id": "d3a21a7a75f44440",
   "execution_count": 8
  },
  {
   "cell_type": "markdown",
   "source": [
    "## Ridge Regression\n",
    "#### Model Training\n",
    "Hyperparameter tuning"
   ],
   "metadata": {
    "collapsed": false
   },
   "id": "c921eabd9b1735cf"
  },
  {
   "cell_type": "code",
   "outputs": [
    {
     "name": "stdout",
     "output_type": "stream",
     "text": [
      "Alpha: 0.001\n",
      "Mean MSE: 0.7003080986293716, Variance MSE: 0.00010361929027292957\n",
      "Mean R2: 0.2935125367328365, Variance R2: 0.00014810039075017112\n",
      "Alpha: 0.01\n",
      "Mean MSE: 0.7003078877795919, Variance MSE: 0.00010361838366065247\n",
      "Mean R2: 0.29351275529956017, Variance R2: 0.0001480913086312103\n",
      "Alpha: 0.1\n",
      "Mean MSE: 0.7003058278256564, Variance MSE: 0.00010360933411883299\n",
      "Mean R2: 0.2935148919614686, Variance R2: 0.00014800055613188476\n",
      "Alpha: 1.0\n",
      "Mean MSE: 0.7002900367829281, Variance MSE: 0.00010352048863713694\n",
      "Mean R2: 0.2935314043716912, Variance R2: 0.00014709983937459358\n",
      "Alpha: 10.0\n",
      "Mean MSE: 0.7005706753182468, Variance MSE: 0.00010278822994540403\n",
      "Mean R2: 0.2932538074371879, Variance R2: 0.00013871821336841592\n",
      "Alpha: 100.0\n",
      "Mean MSE: 0.723878088563794, Variance MSE: 0.00010420138910166837\n",
      "Mean R2: 0.2697778931381495, Variance R2: 8.915844613288033e-05\n",
      "Alpha: 1000.0\n",
      "Mean MSE: 0.8772422968422985, Variance MSE: 0.00015636822549189717\n",
      "Mean R2: 0.11513327312752045, Variance R2: 2.107899798731662e-05\n",
      "Alpha: 2.0\n",
      "Mean MSE: 0.7002825533557542, Variance MSE: 0.00010342525438311269\n",
      "Mean R2: 0.2935395936524422, Variance R2: 0.00014611330794796277\n",
      "Alpha: 2.1\n",
      "Mean MSE: 0.700282376605905, Variance MSE: 0.00010341593049732428\n",
      "Mean R2: 0.2935398355526326, Variance R2: 0.00014601546624414165\n",
      "Alpha: 2.2\n",
      "Mean MSE: 0.700282302608044, Variance MSE: 0.00010340664265764572\n",
      "Mean R2: 0.29353997372373836, Variance R2: 0.000145917770533037\n",
      "Alpha: 2.3\n",
      "Mean MSE: 0.700282331071852, Variance MSE: 0.00010339739080503967\n",
      "Mean R2: 0.2935400084588192, Variance R2: 0.00014582022043412563\n",
      "Alpha: 2.4\n",
      "Mean MSE: 0.7002824617079744, Variance MSE: 0.0001033881748803066\n",
      "Mean R2: 0.2935399400499613, Variance R2: 0.00014572281556837278\n"
     ]
    }
   ],
   "source": [
    "alphas = np.logspace(-3, 3, 7).tolist()\n",
    "alphas.extend([round(x, 1) for x in np.arange(2, 2.5, 0.1)]) # TUNED RANGE\n",
    "best_alpha_ridge = None\n",
    "best_mse_ridge = 999999\n",
    "for alpha in alphas:\n",
    "    model = Ridge(alpha=alpha)\n",
    "    print(f'Alpha: {alpha}')\n",
    "    rm = cross_validate(model, X_train, y_train, num_folds)\n",
    "    if best_alpha_ridge is None or rm['mse'][0] < best_mse_ridge:\n",
    "        best_alpha_ridge = alpha\n",
    "        best_mse_ridge = rm['mse'][0]"
   ],
   "metadata": {
    "collapsed": false,
    "ExecuteTime": {
     "end_time": "2024-05-29T21:11:50.546165Z",
     "start_time": "2024-05-29T21:11:44.196709Z"
    }
   },
   "id": "bb869ae69193c62b",
   "execution_count": 40
  },
  {
   "cell_type": "markdown",
   "source": [
    "#### Model Evaluation"
   ],
   "metadata": {
    "collapsed": false
   },
   "id": "e78425c06218de21"
  },
  {
   "cell_type": "code",
   "outputs": [
    {
     "name": "stdout",
     "output_type": "stream",
     "text": [
      "Best Alpha: 2.2\n"
     ]
    }
   ],
   "source": [
    "print(f'Best Alpha: {best_alpha_ridge}')"
   ],
   "metadata": {
    "collapsed": false,
    "ExecuteTime": {
     "end_time": "2024-05-29T21:11:54.771574Z",
     "start_time": "2024-05-29T21:11:54.768709Z"
    }
   },
   "id": "5209d7a91a365b3e",
   "execution_count": 42
  },
  {
   "cell_type": "code",
   "outputs": [
    {
     "name": "stdout",
     "output_type": "stream",
     "text": [
      "Mean MSE: 0.6972616348120452, Variance MSE: 0.00024820551315640836\n",
      "Mean R2: 0.29740693368911564, Variance R2: 0.0001151153868271697\n"
     ]
    }
   ],
   "source": [
    "rm = cross_validate(Ridge(alpha=best_alpha_ridge), X, y, num_folds)"
   ],
   "metadata": {
    "collapsed": false,
    "ExecuteTime": {
     "end_time": "2024-05-29T21:11:57.236437Z",
     "start_time": "2024-05-29T21:11:55.166025Z"
    }
   },
   "id": "7f1bc301da3d3427",
   "execution_count": 43
  },
  {
   "cell_type": "code",
   "outputs": [
    {
     "name": "stdout",
     "output_type": "stream",
     "text": [
      "Mean Intercept: -0.22552025216644783, Variance Intercept: 0.00014647048067075827\n"
     ]
    },
    {
     "data": {
      "text/plain": "              Mean Coefficient  Variance Coefficient\nduration_ms           0.019969              0.000004\ndanceability          0.051512              0.000002\nenergy               -0.051385              0.000002\nloudness              0.046415              0.000004\nspeechiness          -0.084196              0.000005\n...                        ...                   ...\ntechno                0.203874              0.000088\ntrance                0.148039              0.000061\ntrip-hop              0.048550              0.000088\nturkish               0.295980              0.000005\nworld-music           0.448409              0.000028\n\n[128 rows x 2 columns]",
      "text/html": "<div>\n<style scoped>\n    .dataframe tbody tr th:only-of-type {\n        vertical-align: middle;\n    }\n\n    .dataframe tbody tr th {\n        vertical-align: top;\n    }\n\n    .dataframe thead th {\n        text-align: right;\n    }\n</style>\n<table border=\"1\" class=\"dataframe\">\n  <thead>\n    <tr style=\"text-align: right;\">\n      <th></th>\n      <th>Mean Coefficient</th>\n      <th>Variance Coefficient</th>\n    </tr>\n  </thead>\n  <tbody>\n    <tr>\n      <th>duration_ms</th>\n      <td>0.019969</td>\n      <td>0.000004</td>\n    </tr>\n    <tr>\n      <th>danceability</th>\n      <td>0.051512</td>\n      <td>0.000002</td>\n    </tr>\n    <tr>\n      <th>energy</th>\n      <td>-0.051385</td>\n      <td>0.000002</td>\n    </tr>\n    <tr>\n      <th>loudness</th>\n      <td>0.046415</td>\n      <td>0.000004</td>\n    </tr>\n    <tr>\n      <th>speechiness</th>\n      <td>-0.084196</td>\n      <td>0.000005</td>\n    </tr>\n    <tr>\n      <th>...</th>\n      <td>...</td>\n      <td>...</td>\n    </tr>\n    <tr>\n      <th>techno</th>\n      <td>0.203874</td>\n      <td>0.000088</td>\n    </tr>\n    <tr>\n      <th>trance</th>\n      <td>0.148039</td>\n      <td>0.000061</td>\n    </tr>\n    <tr>\n      <th>trip-hop</th>\n      <td>0.048550</td>\n      <td>0.000088</td>\n    </tr>\n    <tr>\n      <th>turkish</th>\n      <td>0.295980</td>\n      <td>0.000005</td>\n    </tr>\n    <tr>\n      <th>world-music</th>\n      <td>0.448409</td>\n      <td>0.000028</td>\n    </tr>\n  </tbody>\n</table>\n<p>128 rows × 2 columns</p>\n</div>"
     },
     "execution_count": 44,
     "metadata": {},
     "output_type": "execute_result"
    }
   ],
   "source": [
    "print(f'Mean Intercept: {rm['intercept'][0]}, Variance Intercept: {rm['intercept'][1]}')\n",
    "rm['Coefficients']"
   ],
   "metadata": {
    "collapsed": false,
    "ExecuteTime": {
     "end_time": "2024-05-29T21:11:57.246018Z",
     "start_time": "2024-05-29T21:11:57.237503Z"
    }
   },
   "id": "f12eed6c9984da55",
   "execution_count": 44
  },
  {
   "cell_type": "markdown",
   "source": [
    "## Lasso Regression\n",
    "#### Model Training\n",
    "Hyperparameter tuning"
   ],
   "metadata": {
    "collapsed": false
   },
   "id": "4a03f6f881f77c4"
  },
  {
   "cell_type": "code",
   "outputs": [
    {
     "name": "stdout",
     "output_type": "stream",
     "text": [
      "Alpha: 0.001\n",
      "Mean MSE: 0.7110773325201869, Variance MSE: 0.00010259119963038146\n",
      "Mean R2: 0.28267690380175886, Variance R2: 0.00010752150741696713\n",
      "Alpha: 0.01\n",
      "Mean MSE: 0.9582693332383194, Variance MSE: 0.00021138652175844196\n",
      "Mean R2: 0.03342351377048712, Variance R2: 7.520966719030297e-06\n",
      "Alpha: 0.1\n",
      "Mean MSE: 0.991783846067043, Variance MSE: 0.00024171747697925738\n",
      "Mean R2: -0.0003699560500710186, Variance R2: 1.805173388924453e-07\n",
      "Alpha: 1.0\n",
      "Mean MSE: 0.991783846067043, Variance MSE: 0.00024171747697925738\n",
      "Mean R2: -0.0003699560500710186, Variance R2: 1.805173388924453e-07\n",
      "Alpha: 10.0\n",
      "Mean MSE: 0.991783846067043, Variance MSE: 0.00024171747697925738\n",
      "Mean R2: -0.0003699560500710186, Variance R2: 1.805173388924453e-07\n",
      "Alpha: 100.0\n",
      "Mean MSE: 0.991783846067043, Variance MSE: 0.00024171747697925738\n",
      "Mean R2: -0.0003699560500710186, Variance R2: 1.805173388924453e-07\n",
      "Alpha: 1000.0\n",
      "Mean MSE: 0.991783846067043, Variance MSE: 0.00024171747697925738\n",
      "Mean R2: -0.0003699560500710186, Variance R2: 1.805173388924453e-07\n"
     ]
    }
   ],
   "source": [
    "alphas = np.logspace(-3, 3, 7).tolist()\n",
    "#alphas.extend([round(x, 1) for x in np.arange(0.0005, 0.001, 0.00001)]) # tuned range\n",
    "best_alpha_lasso = None\n",
    "best_mse_lasso = 999999\n",
    "for alpha in alphas:\n",
    "    model = Lasso(alpha=alpha)\n",
    "    print(f'Alpha: {alpha}')\n",
    "    lso = cross_validate(model, X_train, y_train, num_folds)\n",
    "    if best_alpha_lasso is None or lso['mse'][0] < best_mse_lasso:\n",
    "        best_alpha_lasso = alpha\n",
    "        best_mse_lasso = lso['mse'][0]"
   ],
   "metadata": {
    "collapsed": false,
    "ExecuteTime": {
     "end_time": "2024-05-29T21:26:39.966951Z",
     "start_time": "2024-05-29T21:26:09.931394Z"
    }
   },
   "id": "75dcc0b7aa4dcc0e",
   "execution_count": 51
  },
  {
   "cell_type": "markdown",
   "source": [
    "#### Model Evaluation"
   ],
   "metadata": {
    "collapsed": false
   },
   "id": "6e86d8437e82e5a"
  },
  {
   "cell_type": "code",
   "outputs": [
    {
     "name": "stdout",
     "output_type": "stream",
     "text": [
      "Best Alpha: 0.001\n"
     ]
    }
   ],
   "source": [
    "print(f'Best Alpha: {best_alpha_lasso}')"
   ],
   "metadata": {
    "collapsed": false,
    "ExecuteTime": {
     "end_time": "2024-05-29T21:26:39.971766Z",
     "start_time": "2024-05-29T21:26:39.968196Z"
    }
   },
   "id": "8d49354427bf0238",
   "execution_count": 52
  },
  {
   "cell_type": "code",
   "outputs": [
    {
     "name": "stdout",
     "output_type": "stream",
     "text": [
      "Mean MSE: 0.7081833065639392, Variance MSE: 0.0001421505037833921\n",
      "Mean R2: 0.2865395354461732, Variance R2: 5.186740757888127e-05\n"
     ]
    }
   ],
   "source": [
    "lso = cross_validate(Lasso(alpha=best_alpha_lasso), X_test, y_test, num_folds)"
   ],
   "metadata": {
    "collapsed": false,
    "ExecuteTime": {
     "end_time": "2024-05-29T21:26:44.430958Z",
     "start_time": "2024-05-29T21:26:39.973039Z"
    }
   },
   "id": "97ce425409fe6b2d",
   "execution_count": 53
  },
  {
   "cell_type": "code",
   "outputs": [
    {
     "name": "stdout",
     "output_type": "stream",
     "text": [
      "Mean Intercept: -0.1191832712495208, Variance Intercept: 9.609776088691024e-05\n"
     ]
    },
    {
     "data": {
      "text/plain": "              Mean Coefficient  Variance Coefficient\nduration_ms           0.021308              0.000002\ndanceability          0.047779              0.000001\nenergy               -0.061137              0.000006\nloudness              0.066483              0.000002\nspeechiness          -0.108769              0.000012\n...                        ...                   ...\ntechno                0.011560              0.000053\ntrance                0.000000              0.000000\ntrip-hop              0.000000              0.000000\nturkish               0.104920              0.000015\nworld-music           0.238659              0.000053\n\n[128 rows x 2 columns]",
      "text/html": "<div>\n<style scoped>\n    .dataframe tbody tr th:only-of-type {\n        vertical-align: middle;\n    }\n\n    .dataframe tbody tr th {\n        vertical-align: top;\n    }\n\n    .dataframe thead th {\n        text-align: right;\n    }\n</style>\n<table border=\"1\" class=\"dataframe\">\n  <thead>\n    <tr style=\"text-align: right;\">\n      <th></th>\n      <th>Mean Coefficient</th>\n      <th>Variance Coefficient</th>\n    </tr>\n  </thead>\n  <tbody>\n    <tr>\n      <th>duration_ms</th>\n      <td>0.021308</td>\n      <td>0.000002</td>\n    </tr>\n    <tr>\n      <th>danceability</th>\n      <td>0.047779</td>\n      <td>0.000001</td>\n    </tr>\n    <tr>\n      <th>energy</th>\n      <td>-0.061137</td>\n      <td>0.000006</td>\n    </tr>\n    <tr>\n      <th>loudness</th>\n      <td>0.066483</td>\n      <td>0.000002</td>\n    </tr>\n    <tr>\n      <th>speechiness</th>\n      <td>-0.108769</td>\n      <td>0.000012</td>\n    </tr>\n    <tr>\n      <th>...</th>\n      <td>...</td>\n      <td>...</td>\n    </tr>\n    <tr>\n      <th>techno</th>\n      <td>0.011560</td>\n      <td>0.000053</td>\n    </tr>\n    <tr>\n      <th>trance</th>\n      <td>0.000000</td>\n      <td>0.000000</td>\n    </tr>\n    <tr>\n      <th>trip-hop</th>\n      <td>0.000000</td>\n      <td>0.000000</td>\n    </tr>\n    <tr>\n      <th>turkish</th>\n      <td>0.104920</td>\n      <td>0.000015</td>\n    </tr>\n    <tr>\n      <th>world-music</th>\n      <td>0.238659</td>\n      <td>0.000053</td>\n    </tr>\n  </tbody>\n</table>\n<p>128 rows × 2 columns</p>\n</div>"
     },
     "execution_count": 54,
     "metadata": {},
     "output_type": "execute_result"
    }
   ],
   "source": [
    "print(f'Mean Intercept: {lso['intercept'][0]}, Variance Intercept: {lso['intercept'][1]}')\n",
    "lso['Coefficients']"
   ],
   "metadata": {
    "collapsed": false,
    "ExecuteTime": {
     "end_time": "2024-05-29T21:26:44.438147Z",
     "start_time": "2024-05-29T21:26:44.431963Z"
    }
   },
   "id": "d0bbf37163289532",
   "execution_count": 54
  },
  {
   "cell_type": "markdown",
   "source": [
    "## Generalised Linear Models\n",
    "#### Model Training"
   ],
   "metadata": {
    "collapsed": false
   },
   "id": "a0e76c65119b08b4"
  },
  {
   "cell_type": "code",
   "outputs": [],
   "source": [
    "from sklearn.linear_model import TweedieRegressor"
   ],
   "metadata": {
    "collapsed": false,
    "ExecuteTime": {
     "end_time": "2024-05-29T21:08:36.573818Z",
     "start_time": "2024-05-29T21:08:36.570561Z"
    }
   },
   "id": "956de05f06cd9f5f",
   "execution_count": 32
  },
  {
   "cell_type": "code",
   "outputs": [
    {
     "name": "stdout",
     "output_type": "stream",
     "text": [
      "Mean MSE: 0.9791664575010197, Variance MSE: 0.00022458821132053422\n",
      "Mean R2: 0.012350825750298545, Variance R2: 8.490654003698215e-07\n"
     ]
    }
   ],
   "source": [
    "model = TweedieRegressor(power=0, alpha=1, link='identity', solver='lbfgs', max_iter=1000)\n",
    "glm = cross_validate(model, X_train, y_train, num_folds)"
   ],
   "metadata": {
    "collapsed": false,
    "ExecuteTime": {
     "end_time": "2024-05-29T21:08:37.453437Z",
     "start_time": "2024-05-29T21:08:36.574819Z"
    }
   },
   "id": "58b127b290112df9",
   "execution_count": 33
  },
  {
   "cell_type": "markdown",
   "source": [
    "Horrible, not worth it"
   ],
   "metadata": {
    "collapsed": false
   },
   "id": "440f6bd1830c9a27"
  },
  {
   "cell_type": "code",
   "outputs": [],
   "source": [],
   "metadata": {
    "collapsed": false
   },
   "id": "3b85797d4ee96894"
  }
 ],
 "metadata": {
  "kernelspec": {
   "display_name": "Python 3",
   "language": "python",
   "name": "python3"
  },
  "language_info": {
   "codemirror_mode": {
    "name": "ipython",
    "version": 2
   },
   "file_extension": ".py",
   "mimetype": "text/x-python",
   "name": "python",
   "nbconvert_exporter": "python",
   "pygments_lexer": "ipython2",
   "version": "2.7.6"
  }
 },
 "nbformat": 4,
 "nbformat_minor": 5
}
