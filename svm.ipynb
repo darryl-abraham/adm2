{
 "cells": [
  {
   "cell_type": "markdown",
   "id": "a688066c1d862f17",
   "metadata": {
    "collapsed": false
   },
   "source": [
    "#### Algorithmics for Data Mining Project 1\n",
    "# Support Vector Machine\n",
    "#### Ondrej Herman, Darryl Abraham"
   ]
  },
  {
   "cell_type": "markdown",
   "id": "ff0735b3f4eae2d2",
   "metadata": {
    "collapsed": false
   },
   "source": [
    "#### Importing Libraries"
   ]
  },
  {
   "cell_type": "code",
   "execution_count": 1,
   "id": "4ec93a51cf7f0bf1",
   "metadata": {
    "ExecuteTime": {
     "end_time": "2024-05-29T00:08:33.748869Z",
     "start_time": "2024-05-29T00:08:33.745013Z"
    },
    "collapsed": false
   },
   "outputs": [],
   "source": [
    "import pandas as pd\n",
    "from sklearn.model_selection import train_test_split\n",
    "from sklearn import svm\n",
    "from sklearn.model_selection import cross_val_score\n",
    "import os\n",
    "import csv\n",
    "from sklearn.preprocessing import LabelEncoder\n",
    "import time"
   ]
  },
  {
   "cell_type": "markdown",
   "id": "32e723f33487294f",
   "metadata": {
    "collapsed": false
   },
   "source": [
    "#### Importing the dataset"
   ]
  },
  {
   "cell_type": "code",
   "execution_count": 2,
   "id": "6eafe20335a87c90",
   "metadata": {
    "ExecuteTime": {
     "end_time": "2024-05-28T23:58:19.736788Z",
     "start_time": "2024-05-28T23:58:19.186489Z"
    },
    "collapsed": false
   },
   "outputs": [
    {
     "data": {
      "text/html": [
       "<div>\n",
       "<style scoped>\n",
       "    .dataframe tbody tr th:only-of-type {\n",
       "        vertical-align: middle;\n",
       "    }\n",
       "\n",
       "    .dataframe tbody tr th {\n",
       "        vertical-align: top;\n",
       "    }\n",
       "\n",
       "    .dataframe thead th {\n",
       "        text-align: right;\n",
       "    }\n",
       "</style>\n",
       "<table border=\"1\" class=\"dataframe\">\n",
       "  <thead>\n",
       "    <tr style=\"text-align: right;\">\n",
       "      <th></th>\n",
       "      <th>popularity</th>\n",
       "      <th>duration_ms</th>\n",
       "      <th>danceability</th>\n",
       "      <th>energy</th>\n",
       "      <th>loudness</th>\n",
       "      <th>speechiness</th>\n",
       "      <th>acousticness</th>\n",
       "      <th>instrumentalness</th>\n",
       "      <th>liveness</th>\n",
       "      <th>valence</th>\n",
       "      <th>tempo</th>\n",
       "      <th>mode</th>\n",
       "      <th>album_name</th>\n",
       "      <th>artists</th>\n",
       "      <th>explicit</th>\n",
       "      <th>track_id</th>\n",
       "      <th>time_signature</th>\n",
       "      <th>track_name</th>\n",
       "      <th>key</th>\n",
       "      <th>track_genre</th>\n",
       "    </tr>\n",
       "  </thead>\n",
       "  <tbody>\n",
       "    <tr>\n",
       "      <th>0</th>\n",
       "      <td>0.975633</td>\n",
       "      <td>-0.730859</td>\n",
       "      <td>-0.845908</td>\n",
       "      <td>-1.889980</td>\n",
       "      <td>-1.784744</td>\n",
       "      <td>-0.078993</td>\n",
       "      <td>1.831732</td>\n",
       "      <td>-0.504094</td>\n",
       "      <td>-0.591211</td>\n",
       "      <td>-0.798690</td>\n",
       "      <td>-1.489717</td>\n",
       "      <td>1</td>\n",
       "      <td>Ghost (Acoustic)</td>\n",
       "      <td>Ben Woodward</td>\n",
       "      <td>False</td>\n",
       "      <td>4qPNDBW1i3p13qLCt0Ki3A</td>\n",
       "      <td>4</td>\n",
       "      <td>Ghost - Acoustic</td>\n",
       "      <td>1</td>\n",
       "      <td>acoustic</td>\n",
       "    </tr>\n",
       "    <tr>\n",
       "      <th>1</th>\n",
       "      <td>1.065299</td>\n",
       "      <td>-0.160332</td>\n",
       "      <td>-0.742186</td>\n",
       "      <td>-1.122669</td>\n",
       "      <td>-0.293288</td>\n",
       "      <td>-0.273826</td>\n",
       "      <td>-0.315499</td>\n",
       "      <td>-0.504112</td>\n",
       "      <td>-0.507167</td>\n",
       "      <td>-1.365688</td>\n",
       "      <td>-1.528312</td>\n",
       "      <td>1</td>\n",
       "      <td>To Begin Again</td>\n",
       "      <td>Ingrid Michaelson;ZAYN</td>\n",
       "      <td>False</td>\n",
       "      <td>1iJBSr7s7jYXzM8EGcbK5b</td>\n",
       "      <td>4</td>\n",
       "      <td>To Begin Again</td>\n",
       "      <td>0</td>\n",
       "      <td>acoustic</td>\n",
       "    </tr>\n",
       "    <tr>\n",
       "      <th>2</th>\n",
       "      <td>1.692961</td>\n",
       "      <td>-0.243214</td>\n",
       "      <td>-1.733304</td>\n",
       "      <td>-2.312994</td>\n",
       "      <td>-2.039252</td>\n",
       "      <td>-0.457309</td>\n",
       "      <td>1.774593</td>\n",
       "      <td>-0.503883</td>\n",
       "      <td>-0.428376</td>\n",
       "      <td>-1.276974</td>\n",
       "      <td>1.987859</td>\n",
       "      <td>1</td>\n",
       "      <td>Crazy Rich Asians (Original Motion Picture Sou...</td>\n",
       "      <td>Kina Grannis</td>\n",
       "      <td>False</td>\n",
       "      <td>6lfxq3CG4xtTiEg7opyCyx</td>\n",
       "      <td>3</td>\n",
       "      <td>Can't Help Falling In Love</td>\n",
       "      <td>0</td>\n",
       "      <td>acoustic</td>\n",
       "    </tr>\n",
       "    <tr>\n",
       "      <th>3</th>\n",
       "      <td>2.186125</td>\n",
       "      <td>-0.271919</td>\n",
       "      <td>0.295030</td>\n",
       "      <td>-0.788711</td>\n",
       "      <td>-0.282750</td>\n",
       "      <td>-0.303145</td>\n",
       "      <td>0.463399</td>\n",
       "      <td>-0.504112</td>\n",
       "      <td>-0.686285</td>\n",
       "      <td>-1.184403</td>\n",
       "      <td>-0.073348</td>\n",
       "      <td>1</td>\n",
       "      <td>Hold On</td>\n",
       "      <td>Chord Overstreet</td>\n",
       "      <td>False</td>\n",
       "      <td>5vjLSffimiIP26QG5WcN2K</td>\n",
       "      <td>4</td>\n",
       "      <td>Hold On</td>\n",
       "      <td>2</td>\n",
       "      <td>acoustic</td>\n",
       "    </tr>\n",
       "    <tr>\n",
       "      <th>4</th>\n",
       "      <td>1.827460</td>\n",
       "      <td>0.012776</td>\n",
       "      <td>-0.920818</td>\n",
       "      <td>-1.965518</td>\n",
       "      <td>-0.111952</td>\n",
       "      <td>-0.464875</td>\n",
       "      <td>1.630242</td>\n",
       "      <td>-0.504103</td>\n",
       "      <td>-0.642162</td>\n",
       "      <td>-1.533474</td>\n",
       "      <td>0.638339</td>\n",
       "      <td>1</td>\n",
       "      <td>Is There Anybody Out There?</td>\n",
       "      <td>A Great Big World;Christina Aguilera</td>\n",
       "      <td>False</td>\n",
       "      <td>6Vc5wAMmXdKIAM7WUoEb7N</td>\n",
       "      <td>3</td>\n",
       "      <td>Say Something</td>\n",
       "      <td>2</td>\n",
       "      <td>acoustic</td>\n",
       "    </tr>\n",
       "  </tbody>\n",
       "</table>\n",
       "</div>"
      ],
      "text/plain": [
       "   popularity  duration_ms  danceability    energy  loudness  speechiness  \\\n",
       "0    0.975633    -0.730859     -0.845908 -1.889980 -1.784744    -0.078993   \n",
       "1    1.065299    -0.160332     -0.742186 -1.122669 -0.293288    -0.273826   \n",
       "2    1.692961    -0.243214     -1.733304 -2.312994 -2.039252    -0.457309   \n",
       "3    2.186125    -0.271919      0.295030 -0.788711 -0.282750    -0.303145   \n",
       "4    1.827460     0.012776     -0.920818 -1.965518 -0.111952    -0.464875   \n",
       "\n",
       "   acousticness  instrumentalness  liveness   valence     tempo  mode  \\\n",
       "0      1.831732         -0.504094 -0.591211 -0.798690 -1.489717     1   \n",
       "1     -0.315499         -0.504112 -0.507167 -1.365688 -1.528312     1   \n",
       "2      1.774593         -0.503883 -0.428376 -1.276974  1.987859     1   \n",
       "3      0.463399         -0.504112 -0.686285 -1.184403 -0.073348     1   \n",
       "4      1.630242         -0.504103 -0.642162 -1.533474  0.638339     1   \n",
       "\n",
       "                                          album_name  \\\n",
       "0                                   Ghost (Acoustic)   \n",
       "1                                     To Begin Again   \n",
       "2  Crazy Rich Asians (Original Motion Picture Sou...   \n",
       "3                                            Hold On   \n",
       "4                        Is There Anybody Out There?   \n",
       "\n",
       "                                artists  explicit                track_id  \\\n",
       "0                          Ben Woodward     False  4qPNDBW1i3p13qLCt0Ki3A   \n",
       "1                Ingrid Michaelson;ZAYN     False  1iJBSr7s7jYXzM8EGcbK5b   \n",
       "2                          Kina Grannis     False  6lfxq3CG4xtTiEg7opyCyx   \n",
       "3                      Chord Overstreet     False  5vjLSffimiIP26QG5WcN2K   \n",
       "4  A Great Big World;Christina Aguilera     False  6Vc5wAMmXdKIAM7WUoEb7N   \n",
       "\n",
       "   time_signature                  track_name  key track_genre  \n",
       "0               4            Ghost - Acoustic    1    acoustic  \n",
       "1               4              To Begin Again    0    acoustic  \n",
       "2               3  Can't Help Falling In Love    0    acoustic  \n",
       "3               4                     Hold On    2    acoustic  \n",
       "4               3               Say Something    2    acoustic  "
      ]
     },
     "execution_count": 2,
     "metadata": {},
     "output_type": "execute_result"
    }
   ],
   "source": [
    "df = pd.read_csv('data/preprocessed_data.csv')\n",
    "df.head()"
   ]
  },
  {
   "cell_type": "markdown",
   "id": "3f3def0a5f513028",
   "metadata": {
    "collapsed": false
   },
   "source": [
    "#### Splitting the dataset into the Training set and Test set"
   ]
  },
  {
   "cell_type": "code",
   "execution_count": 13,
   "id": "bf065a727bc59684",
   "metadata": {
    "ExecuteTime": {
     "end_time": "2024-05-29T00:08:36.624Z",
     "start_time": "2024-05-29T00:08:36.549214Z"
    },
    "collapsed": false
   },
   "outputs": [],
   "source": [
    "# Stratified train test split on track_genre\n",
    "X = df.drop(columns=['track_genre', \n",
    "                     'track_id', \n",
    "                     'track_name', \n",
    "                     'artists', \n",
    "                     'album_name'], \n",
    "            axis=1)\n",
    "X['explicit'] = X['explicit'].astype(int)\n",
    "y = df['track_genre']\n",
    "label_encoder = LabelEncoder()\n",
    "y = label_encoder.fit_transform(y)\n",
    "X_train, X_test, y_train, y_test = train_test_split(X, y, test_size=0.2, random_state=42, stratify=y)"
   ]
  },
  {
   "cell_type": "markdown",
   "id": "3a417fff851ad801",
   "metadata": {
    "collapsed": false
   },
   "source": [
    "#### Training the Random Forest model"
   ]
  },
  {
   "cell_type": "markdown",
   "id": "95af70d43c245cf1",
   "metadata": {
    "collapsed": false
   },
   "source": [
    "Define model"
   ]
  },
  {
   "cell_type": "code",
   "execution_count": 14,
   "id": "851e0e9c5307e532",
   "metadata": {
    "ExecuteTime": {
     "end_time": "2024-05-29T00:08:38.790223Z",
     "start_time": "2024-05-29T00:08:38.786680Z"
    },
    "collapsed": false
   },
   "outputs": [],
   "source": [
    "model_params = {\n",
    "    'C': 1.0,\n",
    "    'kernel': 'rbf',\n",
    "    'degree': 3,\n",
    "    'gamma': 'scale',\n",
    "    'tol': 1e-3,\n",
    "    'random_state': None\n",
    "}\n",
    "clf = svm.SVC(**model_params)"
   ]
  },
  {
   "cell_type": "markdown",
   "id": "9552b99670005daa",
   "metadata": {
    "collapsed": false
   },
   "source": [
    "Tune by cross-validation"
   ]
  },
  {
   "cell_type": "code",
   "execution_count": 16,
   "id": "ee30b8bf562995f0",
   "metadata": {
    "ExecuteTime": {
     "end_time": "2024-05-29T00:16:14.402977Z",
     "start_time": "2024-05-29T00:09:54.110801Z"
    },
    "collapsed": false
   },
   "outputs": [
    {
     "name": "stdout",
     "output_type": "stream",
     "text": [
      "Time: 380.2782919406891\n",
      "Cross-Validation Scores: [0.23166013 0.23372023]\n",
      "Mean Accuracy: 0.23269018189126722\n"
     ]
    }
   ],
   "source": [
    "cv = 2\n",
    "start = time.time()\n",
    "scores = cross_val_score(clf, X_train, y_train, cv=cv, n_jobs=-1)\n",
    "end = time.time()\n",
    "\n",
    "#######################  SAVE  RESULTS  #######################\n",
    "\n",
    "row = model_params.copy()\n",
    "row['cv'] = cv; row['cv_scores'] = scores; row['mean_accuracy'] = scores.mean(); row['time'] = end-start\n",
    "\n",
    "csv_file = 'svm_evaluation.csv'\n",
    "file_exists = os.path.isfile(csv_file)\n",
    "\n",
    "with open(csv_file, mode='a', newline='') as file:\n",
    "    writer = csv.DictWriter(file, fieldnames=list(row.keys()))\n",
    "    if not file_exists:\n",
    "        writer.writeheader()\n",
    "    writer.writerow(row)\n",
    "\n",
    "#######################  PRINT  RESULTS  #######################\n",
    "\n",
    "print(f'Time: {end-start}')\n",
    "print(f'Cross-Validation Scores: {scores}')\n",
    "print(f'Mean Accuracy: {scores.mean()}')"
   ]
  },
  {
   "cell_type": "markdown",
   "id": "9ccefaf7d5b40e",
   "metadata": {
    "collapsed": false
   },
   "source": [
    "Tuning results\n",
    "*N.B. if field is null, default value is used (check docs)*"
   ]
  },
  {
   "cell_type": "code",
   "execution_count": 17,
   "id": "d8cf6e130d8223e6",
   "metadata": {
    "ExecuteTime": {
     "end_time": "2024-05-29T00:24:45.469044Z",
     "start_time": "2024-05-29T00:24:45.383019Z"
    },
    "collapsed": false
   },
   "outputs": [
    {
     "data": {
      "text/html": [
       "<div>\n",
       "<style scoped>\n",
       "    .dataframe tbody tr th:only-of-type {\n",
       "        vertical-align: middle;\n",
       "    }\n",
       "\n",
       "    .dataframe tbody tr th {\n",
       "        vertical-align: top;\n",
       "    }\n",
       "\n",
       "    .dataframe thead th {\n",
       "        text-align: right;\n",
       "    }\n",
       "</style>\n",
       "<table border=\"1\" class=\"dataframe\">\n",
       "  <thead>\n",
       "    <tr style=\"text-align: right;\">\n",
       "      <th></th>\n",
       "      <th>C</th>\n",
       "      <th>kernel</th>\n",
       "      <th>degree</th>\n",
       "      <th>gamma</th>\n",
       "      <th>tol</th>\n",
       "      <th>random_state</th>\n",
       "      <th>cv</th>\n",
       "      <th>cv_scores</th>\n",
       "      <th>mean_accuracy</th>\n",
       "      <th>time</th>\n",
       "    </tr>\n",
       "  </thead>\n",
       "  <tbody>\n",
       "    <tr>\n",
       "      <th>0</th>\n",
       "      <td>1.0</td>\n",
       "      <td>rbf</td>\n",
       "      <td>3</td>\n",
       "      <td>scale</td>\n",
       "      <td>0.001</td>\n",
       "      <td>NaN</td>\n",
       "      <td>2</td>\n",
       "      <td>[0.23166013 0.23372023]</td>\n",
       "      <td>0.23269</td>\n",
       "      <td>380.278292</td>\n",
       "    </tr>\n",
       "  </tbody>\n",
       "</table>\n",
       "</div>"
      ],
      "text/plain": [
       "     C kernel  degree  gamma    tol  random_state  cv  \\\n",
       "0  1.0    rbf       3  scale  0.001           NaN   2   \n",
       "\n",
       "                 cv_scores  mean_accuracy        time  \n",
       "0  [0.23166013 0.23372023]        0.23269  380.278292  "
      ]
     },
     "execution_count": 17,
     "metadata": {},
     "output_type": "execute_result"
    }
   ],
   "source": [
    "eval = pd.read_csv('svm_evaluation.csv')\n",
    "eval.tail(5)"
   ]
  },
  {
   "cell_type": "markdown",
   "id": "d73190bc6268d5f7",
   "metadata": {
    "collapsed": false
   },
   "source": [
    "#### Testing the model"
   ]
  },
  {
   "cell_type": "code",
   "execution_count": null,
   "id": "db1c59d01ccde9e1",
   "metadata": {
    "collapsed": false
   },
   "outputs": [],
   "source": [
    "clf.fit(X_train, y_train)\n",
    "test_score = clf.score(X_test, y_test)\n",
    "print(f'Test Accuracy: {test_score}')"
   ]
  }
 ],
 "metadata": {
  "kernelspec": {
   "display_name": "Python 3",
   "language": "python",
   "name": "python3"
  },
  "language_info": {
   "codemirror_mode": {
    "name": "ipython",
    "version": 3
   },
   "file_extension": ".py",
   "mimetype": "text/x-python",
   "name": "python",
   "nbconvert_exporter": "python",
   "pygments_lexer": "ipython3",
   "version": "3.9.7"
  }
 },
 "nbformat": 4,
 "nbformat_minor": 5
}
